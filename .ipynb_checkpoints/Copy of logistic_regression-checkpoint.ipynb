{
 "cells": [
  {
   "cell_type": "markdown",
   "metadata": {
    "id": "T3P6jcegTz6A"
   },
   "source": [
    "In this second part of the lab, we will implement a language identifier trained on the same data, but using Logistic Regression instead of Naive Bayes."
   ]
  },
  {
   "cell_type": "code",
   "execution_count": 2,
   "metadata": {
    "id": "fowJGMqjTz6B"
   },
   "outputs": [],
   "source": [
    "import io, sys, math\n",
    "import numpy as np\n",
    "from collections import defaultdict"
   ]
  },
  {
   "cell_type": "markdown",
   "metadata": {
    "id": "6HSLDCkNTz6C"
   },
   "source": [
    "This function is used to build the dictionary, or vocabulary, which is a mapping from strings (or words) to integers (or indices). This will allow to build vector representations of documents. "
   ]
  },
  {
   "cell_type": "code",
   "execution_count": 6,
   "metadata": {
    "id": "2GxcXpz7Tz6C"
   },
   "outputs": [],
   "source": [
    "def build_dict(filename, threshold=1):\n",
    "    fin = io.open(filename, 'r', encoding='utf-8')\n",
    "    word_dict, label_dict = {}, {}\n",
    "    counts = defaultdict(lambda: 0)\n",
    "    for line in fin:\n",
    "        tokens = line.split()\n",
    "        label = tokens[0]\n",
    "\n",
    "        if not label in label_dict:\n",
    "            label_dict[label] = len(label_dict)\n",
    "\n",
    "        for w in tokens[1:]:\n",
    "            counts[w] += 1\n",
    "            \n",
    "    for k, v in counts.items():\n",
    "        if v > threshold:\n",
    "            word_dict[k] = len(word_dict)\n",
    "    return word_dict, label_dict"
   ]
  },
  {
   "cell_type": "markdown",
   "metadata": {
    "id": "Z29ePna-Tz6C"
   },
   "source": [
    "This function is used to load the training dataset, and build vector representations of the training examples. In particular, a document or sentence is represented as a bag of words. Each example correspond to a sparse vector ` x` of dimension `V`, where `V` is the size of the vocabulary. The element `j` of the vector `x` is the number of times the word `j` appears in the document."
   ]
  },
  {
   "cell_type": "code",
   "execution_count": 7,
   "metadata": {
    "id": "A6WhIcFZTz6C"
   },
   "outputs": [],
   "source": [
    "def load_data(filename, word_dict, label_dict):\n",
    "    fin = io.open(filename, 'r', encoding='utf-8')\n",
    "    data = []\n",
    "    dim = len(word_dict)\n",
    "    for line in fin:\n",
    "        tokens = line.split()\n",
    "        label = tokens[0]\n",
    "\n",
    "        yi = label_dict[label]\n",
    "        xi = np.zeros(dim)\n",
    "        for word in tokens[1:]:\n",
    "            if word in word_dict:\n",
    "                wid = word_dict[word]\n",
    "                xi[wid] += 1.0\n",
    "        data.append((yi, xi))\n",
    "    return data"
   ]
  },
  {
   "cell_type": "markdown",
   "metadata": {
    "id": "fsCZ7cX1Tz6C"
   },
   "source": [
    "First, let's implement the softmax function. Don't forget numerical stability!"
   ]
  },
  {
   "cell_type": "code",
   "execution_count": null,
   "metadata": {
    "id": "lpUuEJIJTz6D"
   },
   "outputs": [],
   "source": [
    "def softmax(x):\n",
    "    ### FILL CODE\n",
    "    y = np.exp(x - x.max())\n",
    "    return y / np.sum(y)"
   ]
  },
  {
   "cell_type": "markdown",
   "metadata": {
    "id": "60CVPbtNTz6D"
   },
   "source": [
    "Now, let's implement the main training loop, by using stochastic gradient descent. The function will iterate over the examples of the training set. For each example, we will first compute the loss, before computing the gradient and performing the update."
   ]
  },
  {
   "cell_type": "code",
   "execution_count": null,
   "metadata": {
    "id": "zU_IJUPiTz6D"
   },
   "outputs": [],
   "source": [
    "def sgd(w, data, niter):\n",
    "    nlabels, dim = w.shape\n",
    "    for iter in range(niter):\n",
    "        ### FILL CODE\n",
    "    return w"
   ]
  },
  {
   "cell_type": "markdown",
   "metadata": {
    "id": "nqp734Z1Tz6D"
   },
   "source": [
    "The next function will predict the most probable label corresponding to example `x`, given the trained classifier `w`."
   ]
  },
  {
   "cell_type": "code",
   "execution_count": null,
   "metadata": {
    "id": "cD00Y3KyTz6D"
   },
   "outputs": [],
   "source": [
    "def predict(w, x):\n",
    "    ## FILL CODE"
   ]
  },
  {
   "cell_type": "markdown",
   "metadata": {
    "id": "7Zhx3TChTz6D"
   },
   "source": [
    "Finally, this function will compute the accuracy of a trained classifier `w` on a validation set."
   ]
  },
  {
   "cell_type": "code",
   "execution_count": null,
   "metadata": {
    "id": "6-H9UVFsTz6D"
   },
   "outputs": [],
   "source": [
    "def compute_accuracy(w, valid_data):\n",
    "    ## FILL CODE"
   ]
  },
  {
   "cell_type": "code",
   "execution_count": null,
   "metadata": {
    "id": "Njk6PkjOTz6E"
   },
   "outputs": [],
   "source": [
    "print(\"\")\n",
    "print(\"** Logistic Regression **\")\n",
    "print(\"\")\n",
    "\n",
    "word_dict, label_dict = build_dict(\"train1.txt\")\n",
    "train_data = load_data(\"train1.txt\", word_dict, label_dict)\n",
    "valid_data = load_data(\"valid1.txt\", word_dict, label_dict)\n",
    "\n",
    "nlabels = len(label_dict)\n",
    "dim = len(word_dict)\n",
    "w = np.zeros([nlabels, dim])\n",
    "w = sgd(w, train_data, 5)\n",
    "print(\"\")\n",
    "print(\"Validation accuracy: %.3f\" % compute_accuracy(w, valid_data))\n",
    "print(\"\")"
   ]
  }
 ],
 "metadata": {
  "colab": {
   "name": "Copy of logistic_regression.ipynb",
   "provenance": [
    {
     "file_id": "1JjbXIdABu8YunuxBmC96JTqfu9_vWDF7",
     "timestamp": 1652191881091
    }
   ]
  },
  "kernelspec": {
   "display_name": "Python 3 (ipykernel)",
   "language": "python",
   "name": "python3"
  },
  "language_info": {
   "codemirror_mode": {
    "name": "ipython",
    "version": 3
   },
   "file_extension": ".py",
   "mimetype": "text/x-python",
   "name": "python",
   "nbconvert_exporter": "python",
   "pygments_lexer": "ipython3",
   "version": "3.9.7"
  }
 },
 "nbformat": 4,
 "nbformat_minor": 1
}
