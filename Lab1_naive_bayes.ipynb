{
 "cells": [
  {
   "cell_type": "markdown",
   "metadata": {},
   "source": [
    "# Fenosoa Randrianjatovo\n"
   ]
  },
  {
   "cell_type": "markdown",
   "metadata": {
    "id": "6YGxRw1xTewd"
   },
   "source": [
    "The goal of this lab is to implement a language identifier (LID).\n",
    "\n",
    "Our first model will be based on Naive Bayes."
   ]
  },
  {
   "cell_type": "code",
   "execution_count": 14,
   "metadata": {
    "executionInfo": {
     "elapsed": 3,
     "status": "ok",
     "timestamp": 1652191920718,
     "user": {
      "displayName": "Fenosoa Randrianjatovo",
      "userId": "01617866538942699539"
     },
     "user_tz": 0
    },
    "id": "nSk9hEeITewf"
   },
   "outputs": [],
   "source": [
    "import io, sys, math, re\n",
    "import numpy as np\n",
    "from collections import defaultdict"
   ]
  },
  {
   "cell_type": "markdown",
   "metadata": {
    "id": "rPwbM3HzTewg"
   },
   "source": [
    "The next function is used to load the data. Each line of the data consist of a label (corresponding to a language), followed by some text, written in that language. Here is an example of data:\n",
    "\n",
    "```__label__de Zur Namensdeutung gibt es mehrere Varianten.```\n"
   ]
  },
  {
   "cell_type": "code",
   "execution_count": 6,
   "metadata": {
    "executionInfo": {
     "elapsed": 313,
     "status": "ok",
     "timestamp": 1652191931891,
     "user": {
      "displayName": "Fenosoa Randrianjatovo",
      "userId": "01617866538942699539"
     },
     "user_tz": 0
    },
    "id": "2Ravmp_6Tewg"
   },
   "outputs": [],
   "source": [
    "def load_data(filename):\n",
    "    fin = io.open(filename, 'r', encoding='utf-8')\n",
    "    data = []\n",
    "    for line in fin:\n",
    "        tokens = line.split()\n",
    "        data.append((tokens[0], tokens[1:]))\n",
    "    return data"
   ]
  },
  {
   "cell_type": "markdown",
   "metadata": {
    "id": "vsw0-FHeTewg"
   },
   "source": [
    "You can now try loading the first dataset `train1.txt` and look what examples look like."
   ]
  },
  {
   "cell_type": "code",
   "execution_count": 10,
   "metadata": {
    "colab": {
     "base_uri": "https://localhost:8080/",
     "height": 310
    },
    "executionInfo": {
     "elapsed": 1247,
     "status": "error",
     "timestamp": 1652192106728,
     "user": {
      "displayName": "Fenosoa Randrianjatovo",
      "userId": "01617866538942699539"
     },
     "user_tz": 0
    },
    "id": "7ji-yrp2Tewg",
    "outputId": "dd43a8f5-b4ea-4387-f3cb-0cbdb3d890ae"
   },
   "outputs": [
    {
     "name": "stdout",
     "output_type": "stream",
     "text": [
      "('__label__en', ['My', 'fathers', \"don't\", 'speak', 'Dutch.']) \n",
      "\n",
      " ('__label__de', ['Tom', 'ist', 'an', 'Kunst', 'völlig', 'uninteressiert.']) \n",
      "\n",
      " ('__label__ru', ['Она', 'думала,', 'что', 'он', 'переночует', 'у', 'неё.'])\n"
     ]
    }
   ],
   "source": [
    "data = load_data(\"./data/train1.txt\")\n",
    "print(data[7], \"\\n\"*2, data[1], \"\\n\"*2, data[9])"
   ]
  },
  {
   "cell_type": "markdown",
   "metadata": {
    "id": "MQg2KcVTTewh"
   },
   "source": [
    "Next, we will start implementing the Naive Bayes method. This technique is based on word counts, and we thus need to start by implementing a function to count the words and labels of our training set.\n",
    "\n",
    "`n_examples` is the total number of examples\n",
    "\n",
    "`n_words_per_label` is the total number of words for a given label\n",
    "\n",
    "`label_counts` is the number of times a given label appears in the training data\n",
    "\n",
    "`word_counts` is the number of times a word appears with a given label"
   ]
  },
  {
   "cell_type": "code",
   "execution_count": 85,
   "metadata": {
    "id": "rjLo8R6MTewh"
   },
   "outputs": [],
   "source": [
    "def count_words(data):\n",
    "    n_examples = 0\n",
    "    n_words_per_label = defaultdict(lambda: 0)\n",
    "    label_counts = defaultdict(lambda: 0)\n",
    "    word_counts = defaultdict(lambda: defaultdict(lambda: 0.0))\n",
    "\n",
    "    \n",
    "\n",
    "    for ex_index, example in enumerate(data):\n",
    "        label, sentence = example\n",
    "        ## FILL CODE\n",
    "        # return sentence\n",
    "        n_examples += 1\n",
    "        label_counts[label] += 1\n",
    "        \n",
    "        for index , words in enumerate(sentence):\n",
    "            # if index>10 and len(data[ex_index][1])>40:\n",
    "                # return n_examples, label_counts, word_counts, n_words_per_label\n",
    "            n_words_per_label[label] += 1\n",
    "            word_counts[label][words] += 1.0\n",
    "          \n",
    "    return {'label_counts': label_counts, \n",
    "            'word_counts': word_counts, \n",
    "            'n_examples': n_examples, \n",
    "            'n_words_per_label': n_words_per_label}\n",
    "\n",
    "\n",
    "# count_words(data)\n",
    "# if \"__main__\"==__name__ :\n",
    "#     count_words(data)\n"
   ]
  },
  {
   "cell_type": "markdown",
   "metadata": {
    "id": "ByOHGt9TTewi"
   },
   "source": [
    "Next, using the word and label counts from the previous function, we can implement the prediction function.\n",
    "\n",
    "Here, `mu` is a regularization parameter (Laplace smoothing), and `sentence` is the list of words corresponding to the test example."
   ]
  },
  {
   "cell_type": "code",
   "execution_count": 72,
   "metadata": {
    "id": "vZBo4SgQTewi"
   },
   "outputs": [],
   "source": [
    "def predict(sentence, mu, label_counts, word_counts, n_examples, n_words_per_label):\n",
    "    best_label = None\n",
    "    best_score = float('-inf')\n",
    "\n",
    "    for label in word_counts.keys():\n",
    "        score = 0.0\n",
    "        ## FILE CODE\n",
    "        for words in sentence:\n",
    "            V=len(word_counts[label])\n",
    "            score += np.log((mu + word_counts[label][words] ) / (mu*V + n_words_per_label[label]))\n",
    "\n",
    "        if  best_score< score:\n",
    "            best_score = score\n",
    "            best_label = label\n",
    "\n",
    "    return best_label"
   ]
  },
  {
   "cell_type": "markdown",
   "metadata": {
    "id": "aJPOrPIDTewi"
   },
   "source": [
    "The next function will be used to evaluate the Naive Bayes model on a validation set. It computes the accuracy for a particular regularization parameter `mu`."
   ]
  },
  {
   "cell_type": "code",
   "execution_count": 73,
   "metadata": {
    "id": "bidtY4zyTewi"
   },
   "outputs": [],
   "source": [
    "def compute_accuracy(valid_data, mu, counts):\n",
    "    accuracy = 0.0\n",
    "    N= len(valid_data)\n",
    "    label_counts=counts[\"label_counts\"]\n",
    "    word_counts=counts[\"word_counts\"] \n",
    "    n_examples=counts[\"n_examples\"]\n",
    "    n_words_per_label=counts[\"n_words_per_label\"]\n",
    "    for label, sentence in valid_data:\n",
    "        ## FILL CODE\n",
    "        prediction = predict(sentence, mu, label_counts, word_counts, n_examples, n_words_per_label)\n",
    "        if prediction == label:\n",
    "            accuracy += 1.0\n",
    "            \n",
    "    accuracy/=N\n",
    "    return accuracy*100"
   ]
  },
  {
   "cell_type": "code",
   "execution_count": 81,
   "metadata": {
    "id": "ioG86h4vTewi"
   },
   "outputs": [
    {
     "name": "stdout",
     "output_type": "stream",
     "text": [
      "\n",
      "** Naive Bayes **\n",
      "\n",
      "Validation accuracy: 91.50%\n"
     ]
    }
   ],
   "source": [
    "print(\"\")\n",
    "print(\"** Naive Bayes **\")\n",
    "print(\"\")\n",
    "\n",
    "mu = 1.0\n",
    "train_data = load_data(\"./data/train1.txt\")\n",
    "valid_data = load_data(\"./data/valid1.txt\")\n",
    "counts = count_words(train_data)\n",
    "print(\"Validation accuracy: %.2f%s\" % (compute_accuracy(valid_data, mu, counts),\"%\"))"
   ]
  },
  {
   "cell_type": "code",
   "execution_count": 82,
   "metadata": {
    "id": "1_Ibqi38Tewj"
   },
   "outputs": [
    {
     "name": "stdout",
     "output_type": "stream",
     "text": [
      "\n",
      "** Naive Bayes **\n",
      "\n",
      "Validation accuracy: 96.60%\n"
     ]
    }
   ],
   "source": [
    "print(\"\")\n",
    "print(\"** Naive Bayes **\")\n",
    "print(\"\")\n",
    "\n",
    "mu = 1.0\n",
    "train_data = load_data(\"./data/train2.txt\")\n",
    "valid_data = load_data(\"./data/valid2.txt\")\n",
    "counts = count_words(train_data)\n",
    "print(\"Validation accuracy: %.2f%s\" % (compute_accuracy(valid_data, mu, counts),\"%\"))"
   ]
  }
 ],
 "metadata": {
  "colab": {
   "name": "Copy of naive_bayes.ipynb",
   "provenance": [
    {
     "file_id": "1LN4bSp35ggZpXxPLHWUuKJm1coN96f49",
     "timestamp": 1652191848592
    }
   ]
  },
  "kernelspec": {
   "display_name": "Python 3 (ipykernel)",
   "language": "python",
   "name": "python3"
  },
  "language_info": {
   "codemirror_mode": {
    "name": "ipython",
    "version": 3
   },
   "file_extension": ".py",
   "mimetype": "text/x-python",
   "name": "python",
   "nbconvert_exporter": "python",
   "pygments_lexer": "ipython3",
   "version": "3.9.7"
  }
 },
 "nbformat": 4,
 "nbformat_minor": 1
}
